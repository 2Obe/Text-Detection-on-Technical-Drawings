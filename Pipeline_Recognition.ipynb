{
 "cells": [
  {
   "cell_type": "code",
   "execution_count": null,
   "id": "cea09d17",
   "metadata": {},
   "outputs": [],
   "source": [
    "import cv2\n",
    "import numpy as np\n",
    "from PIL import Image, ImageDraw, ImageFilter, ImageOps, ImageEnhance\n",
    "from matplotlib import pyplot as plt\n",
    "import keras_ocr\n",
    "import datetime\n",
    "import string\n",
    "import math\n",
    "import os\n",
    "import csv"
   ]
  },
  {
   "cell_type": "code",
   "execution_count": null,
   "id": "f30524fe",
   "metadata": {},
   "outputs": [],
   "source": [
    "Image='DETECTED_BOUNDING_BOX'"
   ]
  },
  {
   "cell_type": "code",
   "execution_count": null,
   "id": "671acabe",
   "metadata": {},
   "outputs": [],
   "source": [
    "img = Image.open(Images)\n",
    "width, height = img.size\n",
    "\n",
    "\n",
    "source = img.split()\n",
    "\n",
    "R, G, B = 0, 1, 2\n",
    "\n",
    "# select regions where red is less than 170\n",
    "mask = source[R].point(lambda x: 0 if x < 170 else 255)\n",
    "\n",
    "\n",
    "# paste the processed band back, but only where red was < 100\n",
    "source[B].paste(mask, None, mask)\n",
    "source[G].paste(mask, None, mask)\n",
    "source[R].paste(mask, None, mask)\n",
    "\n",
    "# build a new multiband image\n",
    "\n",
    "img = Image.merge(img.mode, source)\n",
    "\n",
    "\n",
    "img = np.array(img)\n",
    "\n",
    "plt.imshow(img)"
   ]
  },
  {
   "cell_type": "code",
   "execution_count": null,
   "id": "9035f672",
   "metadata": {},
   "outputs": [],
   "source": [
    "alphabet='-+Hx1234567890.,\\u2300\\u00B1'\n",
    "recognizer = keras_ocr.recognition.Recognizer(alphabet=alphabet)\n",
    "recognizer.model.load_weights('TRAINED_WEIGHT.h5')\n",
    "recognizer.compile()"
   ]
  },
  {
   "cell_type": "code",
   "execution_count": null,
   "id": "99c5746a",
   "metadata": {},
   "outputs": [],
   "source": [
    "pred = recognizer.recognize(img)\n",
    "plt.imshow(keras_ocr.tools.read(Images))\n",
    "print(pred)"
   ]
  }
 ],
 "metadata": {
  "kernelspec": {
   "display_name": "Python 3 (ipykernel)",
   "language": "python",
   "name": "python3"
  },
  "language_info": {
   "codemirror_mode": {
    "name": "ipython",
    "version": 3
   },
   "file_extension": ".py",
   "mimetype": "text/x-python",
   "name": "python",
   "nbconvert_exporter": "python",
   "pygments_lexer": "ipython3",
   "version": "3.8.0"
  }
 },
 "nbformat": 4,
 "nbformat_minor": 5
}
